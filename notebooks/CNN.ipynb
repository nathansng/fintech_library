{
 "cells": [
  {
   "cell_type": "markdown",
   "id": "a8ebf572-ba58-4b8e-bf64-267ffa8e3f98",
   "metadata": {},
   "source": [
    "# CNN Implementation in TreNet\n",
    "\n",
    "### Nathan Ng"
   ]
  },
  {
   "cell_type": "markdown",
   "id": "ad5854b8-28ac-41f9-838b-c080804b7ecc",
   "metadata": {},
   "source": [
    "### CNN Implementation\n",
    "\n",
    "- CNN of *k* filters of window size *w* is applied to raw time series data\n",
    "- ReLU activation function is applied on CNN outputs\n",
    "- Results are pooled in max pooling layer \n",
    "- Finally, pooled outputs are concatenated to form fully connected layer \n",
    "\n",
    "- Note: Dropout layer is skipped because optimal TreNet hyperparameters found for NYSE data had dropout of 0.0"
   ]
  },
  {
   "cell_type": "markdown",
   "id": "fa3c60e8-16e4-42be-a57b-d85146e2e63e",
   "metadata": {},
   "source": [
    "## Setup"
   ]
  },
  {
   "cell_type": "code",
   "execution_count": 1,
   "id": "a2fc4304-b3f7-42d2-b298-79064b17410a",
   "metadata": {},
   "outputs": [],
   "source": [
    "import pandas as pd\n",
    "import numpy as np\n",
    "import matplotlib.pyplot as plt\n",
    "import seaborn as sns\n",
    "\n",
    "import torch\n",
    "import torch.nn as nn\n",
    "import torch.optim as optim"
   ]
  },
  {
   "cell_type": "code",
   "execution_count": 2,
   "id": "bd81bac9-f4f5-4b97-93c9-0494e9dc6708",
   "metadata": {},
   "outputs": [],
   "source": [
    "# Use GPU if available for PyTorch\n",
    "if torch.cuda.is_available():\n",
    "    dev = \"cuda:0\"\n",
    "else:\n",
    "    dev = \"cpu\"\n",
    "\n",
    "device = torch.device(dev)"
   ]
  },
  {
   "cell_type": "code",
   "execution_count": 3,
   "id": "df258e20-ad96-4687-9225-fcd11b26b71d",
   "metadata": {},
   "outputs": [],
   "source": [
    "# Load in subset of NYSE data \n",
    "df = pd.read_csv(\"../data/raw/indexProcessed.csv\")\n",
    "NYSE_data = df[df[\"Index\"] == \"NYA\"].loc[:, \"Open\"].reset_index(drop=True)\n",
    "data_cpu = torch.tensor(NYSE_data, dtype=torch.float)\n",
    "sub_cpu = torch.tensor(NYSE_data[:1000], dtype=torch.float) # First 1000 datapoints of NYSE \n",
    "\n",
    "# Move data to GPU \n",
    "data = data_cpu.to(device)\n",
    "sub = sub_cpu.to(device)"
   ]
  },
  {
   "cell_type": "markdown",
   "id": "45946ecf-ecd0-42da-8839-1a2526b6d35d",
   "metadata": {},
   "source": [
    "## CNN Implementation"
   ]
  },
  {
   "cell_type": "code",
   "execution_count": 4,
   "id": "21827809-c77f-49bf-9bb1-b0acf2acd435",
   "metadata": {},
   "outputs": [],
   "source": [
    "class TreNetCNN(nn.Module):\n",
    "    def __init__(self, num_data, layers=None, num_filters=None, dropout=None, conv_size=3, pooling_size=3, output_size=2):\n",
    "        \"\"\"\n",
    "        layers (int): Number of cnn stacks to create \n",
    "        num_filters (list(int)): Number of CNN filters corresponding to same index stacks\n",
    "        dropout (list(float)): Probability of dropout corresponing to same index stack\n",
    "        \"\"\"\n",
    "        super(TreNetCNN, self).__init__()\n",
    "        self.num_data = num_data\n",
    "        self.layers = layers\n",
    "        self.num_filters = num_filters\n",
    "        self.dropout = dropout\n",
    "        self.conv_size = conv_size\n",
    "        self.pooling_size = pooling_size\n",
    "        self.output_size = output_size\n",
    "        self.cnn_stack = self.create_cnn_stack()\n",
    "    \n",
    "    def create_cnn_stack(self):\n",
    "        # Initialize default stack settings\n",
    "        if not self.layers:\n",
    "            self.layers = 2\n",
    "        if not self.num_filters:\n",
    "            self.num_filters = [128] * self.layers\n",
    "        if not self.dropout:\n",
    "            self.dropout = [0.0] * self.layers\n",
    "        \n",
    "        # Create cnn stacks \n",
    "        cnn_stacks = []\n",
    "        num_channels = 1\n",
    "        updated_data = self.num_data\n",
    "        for i in range(self.layers):\n",
    "            cnn_stack = nn.Sequential(\n",
    "                nn.Conv1d(in_channels=num_channels, out_channels=self.num_filters[i], kernel_size=self.conv_size),\n",
    "                nn.ReLU(),\n",
    "                nn.MaxPool1d(kernel_size=self.pooling_size, stride=1),\n",
    "                nn.Dropout(p=self.dropout[i])\n",
    "            )\n",
    "            num_channels = self.num_filters[i]\n",
    "            cnn_stacks.append(cnn_stack)\n",
    "            \n",
    "            # Keep track of current size of data \n",
    "            updated_data = updated_data - self.conv_size + 1 - self.pooling_size + 1\n",
    "            new_data_size = self.num_filters[i] * updated_data\n",
    "            \n",
    "        # Add fully connected layer at end to output trend duration and slope\n",
    "        output_layer = nn.Sequential(\n",
    "            nn.Flatten(), \n",
    "            nn.Linear(new_data_size, self.output_size)\n",
    "        )\n",
    "        cnn_stacks.append(output_layer)\n",
    "            \n",
    "        # Combine cnn stacks \n",
    "        return nn.Sequential(*cnn_stacks)\n",
    "    \n",
    "    def forward(self, x):\n",
    "        x = torch.reshape(x, (1, 1, -1))\n",
    "        output = self.cnn_stack(x)\n",
    "        return output"
   ]
  },
  {
   "cell_type": "code",
   "execution_count": 5,
   "id": "3567b7c0-0f1f-4a26-bf0c-3e2230e8bda5",
   "metadata": {},
   "outputs": [],
   "source": [
    "cnn_1 = TreNetCNN(sub.shape[0], layers = 2, num_filters = [32, 32], dropout=[0.5, 0.5]).to(device)\n",
    "cnn_2 = TreNetCNN(data.shape[0], layers = 2, num_filters = [32, 32], dropout=[0.5, 0.5]).to(device)"
   ]
  }
 ],
 "metadata": {
  "kernelspec": {
   "display_name": "Python 3 (ipykernel)",
   "language": "python",
   "name": "python3"
  },
  "language_info": {
   "codemirror_mode": {
    "name": "ipython",
    "version": 3
   },
   "file_extension": ".py",
   "mimetype": "text/x-python",
   "name": "python",
   "nbconvert_exporter": "python",
   "pygments_lexer": "ipython3",
   "version": "3.9.5"
  }
 },
 "nbformat": 4,
 "nbformat_minor": 5
}
