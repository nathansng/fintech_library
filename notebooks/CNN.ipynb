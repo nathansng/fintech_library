{
 "cells": [
  {
   "cell_type": "markdown",
   "id": "a8ebf572-ba58-4b8e-bf64-267ffa8e3f98",
   "metadata": {},
   "source": [
    "# CNN Implementation in TreNet\n",
    "\n",
    "### Authors: Nathan Ng"
   ]
  },
  {
   "cell_type": "markdown",
   "id": "ad5854b8-28ac-41f9-838b-c080804b7ecc",
   "metadata": {},
   "source": [
    "### CNN Implementation\n",
    "\n",
    "- CNN of *k* filters of window size *w* is applied to raw time series data\n",
    "- ReLU activation function is applied on CNN outputs\n",
    "- Results are pooled in max pooling layer \n",
    "- Finally, pooled outputs are concatenated to form fully connected layer \n",
    "\n",
    "- Note: Dropout layer is skipped because optimal TreNet hyperparameters found for NYSE data had dropout of 0.0"
   ]
  },
  {
   "cell_type": "markdown",
   "id": "fa3c60e8-16e4-42be-a57b-d85146e2e63e",
   "metadata": {},
   "source": [
    "## Setup"
   ]
  },
  {
   "cell_type": "code",
   "execution_count": 1,
   "id": "a2fc4304-b3f7-42d2-b298-79064b17410a",
   "metadata": {},
   "outputs": [],
   "source": [
    "import pandas as pd\n",
    "import numpy as np\n",
    "import matplotlib.pyplot as plt\n",
    "import seaborn as sns\n",
    "\n",
    "import torch\n",
    "import torch.nn as nn\n",
    "import torch.optim as optim\n",
    "from sklearn.preprocessing import MinMaxScaler"
   ]
  },
  {
   "cell_type": "code",
   "execution_count": 2,
   "id": "bd81bac9-f4f5-4b97-93c9-0494e9dc6708",
   "metadata": {},
   "outputs": [],
   "source": [
    "# Use GPU if available for PyTorch\n",
    "if torch.cuda.is_available():\n",
    "    dev = \"cuda:0\"\n",
    "else:\n",
    "    dev = \"cpu\"\n",
    "\n",
    "device = torch.device(dev)"
   ]
  },
  {
   "cell_type": "markdown",
   "id": "2f379c53-a6e5-48e3-9ad3-e3dde7826f2a",
   "metadata": {},
   "source": [
    "## Data Pre-Processing"
   ]
  },
  {
   "cell_type": "code",
   "execution_count": 3,
   "id": "89f6e6d7",
   "metadata": {},
   "outputs": [],
   "source": [
    "\"\"\"\n",
    "Scales data using Sklearn's MinMaxScaler\n",
    "Generalized to accept tensors \n",
    "\"\"\"\n",
    "class Scaler():\n",
    "    def __init__(self):\n",
    "        self.scaler = MinMaxScaler()\n",
    "        \n",
    "    def fit_transform(self, data):\n",
    "        # Check if data is tensor\n",
    "        if type(data) == torch.Tensor:\n",
    "            data = torch.Tensor.cpu(data).detach().numpy()\n",
    "            \n",
    "        # Check if data is dataframe \n",
    "        if type(data) == pd.DataFrame or type(data) == pd.Series:\n",
    "            data = data.values\n",
    "            \n",
    "        # Transform data \n",
    "        if len(data.shape) == 1: \n",
    "            scaled_data = self.scaler.fit_transform(data.reshape(-1, 1)).flatten()\n",
    "        else: \n",
    "            scaled_data = self.scaler.fit_transform(data)\n",
    "        \n",
    "        # Return tensor of scaled data\n",
    "        return torch.tensor(scaled_data, dtype=torch.float)\n",
    "    \n",
    "    def inverse_transform(self, data): \n",
    "        # Check if data is tensor\n",
    "        if type(data) == torch.Tensor:\n",
    "            data = torch.Tensor.cpu(data).detach().numpy()\n",
    "            \n",
    "        # Check if data is dataframe \n",
    "        if type(data) == pd.DataFrame or type(data) == pd.Series:\n",
    "            data = data.values\n",
    "        \n",
    "        inverse_data = self.scaler.inverse_transform(data)\n",
    "        \n",
    "        # Return tensor of inverse data\n",
    "        return torch.tensor(inverse_data, dtype=torch.float)"
   ]
  },
  {
   "cell_type": "code",
   "execution_count": 4,
   "id": "e125c24e-4923-4eaa-9f8f-dc32690dbb3b",
   "metadata": {},
   "outputs": [],
   "source": [
    "\"\"\"\n",
    "Extracts m sequential data to use to predict n next data \n",
    "\"\"\"\n",
    "def extract_data(data, num_input, num_output):\n",
    "    num_rows = data.shape[0] - num_input - num_output\n",
    "    input_data = torch.zeros(num_rows, num_input)\n",
    "    output_data = torch.zeros(num_rows, num_output)\n",
    "    \n",
    "    for i in range(num_rows):\n",
    "        input_data[i] = (data[i:i+num_input])\n",
    "        output_data[i] = (data[i+num_input:i+num_input+num_output])\n",
    "    return input_data, output_data"
   ]
  },
  {
   "cell_type": "code",
   "execution_count": 5,
   "id": "4b5e4c62-0532-4ad6-a8ec-954598b982d4",
   "metadata": {},
   "outputs": [],
   "source": [
    "\"\"\"\n",
    "Separates data into train, validation, and test sets\n",
    "props: (train, valid)\n",
    "\"\"\"\n",
    "def train_valid_test_split(X, y, props=None):\n",
    "    if not props: \n",
    "        props = (0.5, 0.25)\n",
    "    elif len(props) != 3: \n",
    "        print(\"Wrong number of parameters\")\n",
    "        return None\n",
    "    \n",
    "    train_size = int(X.shape[0] * props[0])\n",
    "    valid_size = int(X.shape[0] * props[1])\n",
    "    \n",
    "    X_train = X[:train_size].to(device)\n",
    "    y_train = y[:train_size].to(device)\n",
    "    \n",
    "    X_valid = X[train_size: (train_size + valid_size)].to(device)\n",
    "    y_valid = y[train_size: (train_size + valid_size)].to(device)\n",
    "    \n",
    "    X_test = X[(train_size + valid_size):].to(device)\n",
    "    y_test = y[(train_size + valid_size):].to(device)\n",
    "    \n",
    "    return X_train, y_train, X_valid, y_valid, X_test, y_test"
   ]
  },
  {
   "cell_type": "markdown",
   "id": "45946ecf-ecd0-42da-8839-1a2526b6d35d",
   "metadata": {},
   "source": [
    "## TreNet CNN Model"
   ]
  },
  {
   "cell_type": "code",
   "execution_count": 6,
   "id": "21827809-c77f-49bf-9bb1-b0acf2acd435",
   "metadata": {},
   "outputs": [],
   "source": [
    "class TreNetCNN(nn.Module):\n",
    "    def __init__(self, num_data, layers=None, num_filters=None, dropout=None, conv_size=3, pooling_size=3, output_size=2):\n",
    "        \"\"\"\n",
    "        layers (int): Number of cnn stacks to create \n",
    "        num_filters (list(int)): Number of CNN filters corresponding to same index stacks\n",
    "        dropout (list(float)): Probability of dropout corresponing to same index stack\n",
    "        convsize (int, list(int)): Size of filter sizes \n",
    "        \"\"\"\n",
    "        super(TreNetCNN, self).__init__()\n",
    "        self.num_data = num_data\n",
    "        self.layers = layers\n",
    "        self.num_filters = num_filters\n",
    "        self.dropout = dropout\n",
    "        self.conv_size = conv_size\n",
    "        self.pooling_size = pooling_size\n",
    "        self.output_size = output_size\n",
    "        self.cnn_stack = self.create_cnn_stack()\n",
    "    \n",
    "    def create_cnn_stack(self):\n",
    "        # Initialize default stack settings\n",
    "        if not self.layers:\n",
    "            self.layers = 2\n",
    "        if not self.num_filters:\n",
    "            self.num_filters = [128] * self.layers\n",
    "        if not self.dropout:\n",
    "            self.dropout = [0.0] * self.layers\n",
    "        if type(self.conv_size) == int:\n",
    "            self.conv_size = [self.conv_size] * self.layers\n",
    "        \n",
    "        # Create cnn stacks \n",
    "        cnn_stacks = []\n",
    "        num_channels = 1\n",
    "        updated_data = self.num_data\n",
    "        for i in range(self.layers):\n",
    "            cnn_stack = nn.Sequential(\n",
    "                nn.Conv1d(in_channels=num_channels, out_channels=self.num_filters[i], kernel_size=self.conv_size[i]),\n",
    "                nn.ReLU(),\n",
    "                nn.MaxPool1d(kernel_size=self.pooling_size, stride=1),\n",
    "                nn.Dropout(p=self.dropout[i])\n",
    "            )\n",
    "            num_channels = self.num_filters[i]\n",
    "            cnn_stacks.append(cnn_stack)\n",
    "            \n",
    "            # Keep track of current size of data \n",
    "            updated_data = updated_data - self.conv_size[i] + 1 - self.pooling_size + 1\n",
    "            new_data_size = self.num_filters[i] * updated_data\n",
    "            \n",
    "        # Add fully connected layer at end to output trend duration and slope\n",
    "        output_layer = nn.Sequential(\n",
    "            nn.Flatten(), \n",
    "            nn.Linear(new_data_size, self.output_size)\n",
    "        )\n",
    "        cnn_stacks.append(output_layer)\n",
    "            \n",
    "        # Combine cnn stacks \n",
    "        return nn.Sequential(*cnn_stacks)\n",
    "    \n",
    "    def forward(self, x):\n",
    "        x = torch.reshape(x, (x.shape[0], 1, -1))\n",
    "        output = self.cnn_stack(x)\n",
    "        return output"
   ]
  },
  {
   "cell_type": "markdown",
   "id": "ba218bc7-b591-4eeb-ab15-8583afe70892",
   "metadata": {},
   "source": [
    "## TreNet CNN Training and Loss Function"
   ]
  },
  {
   "cell_type": "code",
   "execution_count": 7,
   "id": "48641870-02c5-4fb5-b7cf-6d0726ce15d6",
   "metadata": {},
   "outputs": [],
   "source": [
    "\"\"\"\n",
    "Create training loop\n",
    "\"\"\"\n",
    "def train_loop(n_epochs, X, y, model, loss_fn, optimizer, printout=False):\n",
    "    for i in range(n_epochs):\n",
    "        # Compute prediction and loss \n",
    "        pred = model(X)\n",
    "        loss = loss_fn(pred, y)\n",
    "        \n",
    "        # Perform backpropagation\n",
    "        optimizer.zero_grad()\n",
    "        loss.backward()\n",
    "        optimizer.step()\n",
    "        \n",
    "        # Print loss per epoch\n",
    "        if printout and i % 100 == 0:\n",
    "            print(f\"Epoch {i}:\\n--------------\")\n",
    "            print(f\"Train Loss: {np.sqrt(loss.item())}\")\n",
    "            print()\n",
    "            \n",
    "    # Print final loss after training \n",
    "    if printout:\n",
    "        print(f\"Final:\\n--------------\")\n",
    "        print(f\"Train Loss: {np.sqrt(loss.item())}\")\n",
    "        print()"
   ]
  },
  {
   "cell_type": "markdown",
   "id": "32fe47df-1c6a-4cc4-9a8a-b9138aa9ce15",
   "metadata": {},
   "source": [
    "## Test CNN Stack Model on Raw Stock Prices"
   ]
  },
  {
   "cell_type": "code",
   "execution_count": 8,
   "id": "c7c94133",
   "metadata": {},
   "outputs": [],
   "source": [
    "# Load in NYSE data\n",
    "df = pd.read_csv(\"../data/raw/indexProcessed.csv\")\n",
    "NYSE_df = df[df[\"Index\"] == \"NYA\"].loc[:, \"Open\"].reset_index(drop=True)\n",
    "\n",
    "# Create subset of data \n",
    "NYSE_sub = NYSE_df[:1000]"
   ]
  },
  {
   "cell_type": "code",
   "execution_count": 9,
   "id": "8a073541",
   "metadata": {},
   "outputs": [],
   "source": [
    "# Scale data\n",
    "scaler = Scaler()\n",
    "sub = scaler.fit_transform(NYSE_sub).to(device)"
   ]
  },
  {
   "cell_type": "code",
   "execution_count": 10,
   "id": "514be90d-1cbe-4347-a519-a074f46b9f4b",
   "metadata": {},
   "outputs": [],
   "source": [
    "# Extract samples and create train test sets\n",
    "X, y = extract_data(sub, 99, 1)\n",
    "X_train, y_train, X_valid, y_valid, X_test, y_test = train_valid_test_split(X, y)"
   ]
  },
  {
   "cell_type": "code",
   "execution_count": 11,
   "id": "c971c73e",
   "metadata": {},
   "outputs": [],
   "source": [
    "# Set parameters for model and training \n",
    "cnn_params = {\n",
    "    'num_data': 99,\n",
    "    'layers': 2, \n",
    "    'num_filters': [32, 32],\n",
    "    'dropout': [0.1, 0.1], \n",
    "    'conv_size': [2, 4], \n",
    "    'output_size': 1\n",
    "}\n",
    "\n",
    "learning_rate = 0.0001\n",
    "epochs = 1000"
   ]
  },
  {
   "cell_type": "code",
   "execution_count": 12,
   "id": "c55c25d5-2586-41dc-8ced-a410516f6595",
   "metadata": {},
   "outputs": [],
   "source": [
    "# Initialize model, loss function, and optimizer\n",
    "model = TreNetCNN(**cnn_params).to(device)\n",
    "\n",
    "# Initialize loss function \n",
    "loss_fn = nn.MSELoss()\n",
    "\n",
    "# Initialize optimizer \n",
    "optimizer = torch.optim.Adam(model.parameters(), lr=learning_rate)"
   ]
  },
  {
   "cell_type": "code",
   "execution_count": 13,
   "id": "c3efcf46",
   "metadata": {},
   "outputs": [
    {
     "name": "stderr",
     "output_type": "stream",
     "text": [
      "/opt/conda/lib/python3.9/site-packages/torch/nn/functional.py:652: UserWarning: Named tensors and all their associated APIs are an experimental feature and subject to change. Please do not use them for anything important until they are released as stable. (Triggered internally at  /pytorch/c10/core/TensorImpl.h:1156.)\n",
      "  return torch.max_pool1d(input, kernel_size, stride, padding, dilation, ceil_mode)\n"
     ]
    },
    {
     "name": "stdout",
     "output_type": "stream",
     "text": [
      "Epoch 0:\n",
      "--------------\n",
      "Train Loss: 0.5814115310096946\n",
      "\n",
      "Epoch 100:\n",
      "--------------\n",
      "Train Loss: 0.09614612752969987\n",
      "\n",
      "Epoch 200:\n",
      "--------------\n",
      "Train Loss: 0.07200849706935462\n",
      "\n",
      "Epoch 300:\n",
      "--------------\n",
      "Train Loss: 0.067727111159626\n",
      "\n",
      "Epoch 400:\n",
      "--------------\n",
      "Train Loss: 0.06122294528802654\n",
      "\n",
      "Epoch 500:\n",
      "--------------\n",
      "Train Loss: 0.057402187414044036\n",
      "\n",
      "Epoch 600:\n",
      "--------------\n",
      "Train Loss: 0.05382409746469356\n",
      "\n",
      "Epoch 700:\n",
      "--------------\n",
      "Train Loss: 0.052727071821517056\n",
      "\n",
      "Epoch 800:\n",
      "--------------\n",
      "Train Loss: 0.05229615994509662\n",
      "\n",
      "Epoch 900:\n",
      "--------------\n",
      "Train Loss: 0.043817343089010384\n",
      "\n",
      "Final:\n",
      "--------------\n",
      "Train Loss: 0.0448866011163473\n",
      "\n"
     ]
    }
   ],
   "source": [
    "# Train model\n",
    "train_loop(epochs, X_train, y_train, model, loss_fn, optimizer, printout=True)"
   ]
  },
  {
   "cell_type": "code",
   "execution_count": 14,
   "id": "db02df11",
   "metadata": {},
   "outputs": [],
   "source": [
    "# Compare predictions and actual values \n",
    "inverse_test_y = scaler.inverse_transform(y_test)\n",
    "\n",
    "pred_test_y = model(X_test)\n",
    "inverse_pred_test_y = scaler.inverse_transform(pred_test_y)"
   ]
  },
  {
   "cell_type": "code",
   "execution_count": 15,
   "id": "75e19daf",
   "metadata": {},
   "outputs": [
    {
     "name": "stdout",
     "output_type": "stream",
     "text": [
      "Test Loss: tensor(21.2793)\n",
      "Predicted values: \n",
      "tensor([[586.9500],\n",
      "        [589.1700],\n",
      "        [587.5800],\n",
      "        [583.4600],\n",
      "        [580.8200],\n",
      "        [582.1900],\n",
      "        [583.8800],\n",
      "        [588.1100],\n",
      "        [591.9200],\n",
      "        [590.7500]])\n",
      "Actual values: \n",
      "tensor([[617.7910],\n",
      "        [606.2527],\n",
      "        [609.2711],\n",
      "        [608.5897],\n",
      "        [587.4570],\n",
      "        [559.3215],\n",
      "        [605.8821],\n",
      "        [608.0587],\n",
      "        [588.2817],\n",
      "        [587.3508]])\n"
     ]
    }
   ],
   "source": [
    "print(\"Test Loss: \" + str(loss_fn(inverse_pred_test_y, inverse_test_y)**(1/2)))\n",
    "\n",
    "print(\"Predicted values: \\n\" + str(inverse_test_y[:10]))\n",
    "\n",
    "print(\"Actual values: \\n\" + str(inverse_pred_test_y[:10]))"
   ]
  }
 ],
 "metadata": {
  "kernelspec": {
   "display_name": "Python 3 (ipykernel)",
   "language": "python",
   "name": "python3"
  },
  "language_info": {
   "codemirror_mode": {
    "name": "ipython",
    "version": 3
   },
   "file_extension": ".py",
   "mimetype": "text/x-python",
   "name": "python",
   "nbconvert_exporter": "python",
   "pygments_lexer": "ipython3",
   "version": "3.9.5"
  }
 },
 "nbformat": 4,
 "nbformat_minor": 5
}
