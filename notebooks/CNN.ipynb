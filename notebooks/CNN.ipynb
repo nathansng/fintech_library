{
 "cells": [
  {
   "cell_type": "markdown",
   "id": "a8ebf572-ba58-4b8e-bf64-267ffa8e3f98",
   "metadata": {},
   "source": [
    "# CNN Implementation in TreNet\n",
    "\n",
    "### Authors: Nathan Ng"
   ]
  },
  {
   "cell_type": "markdown",
   "id": "ad5854b8-28ac-41f9-838b-c080804b7ecc",
   "metadata": {},
   "source": [
    "### CNN Implementation\n",
    "\n",
    "- CNN of *k* filters of window size *w* is applied to raw time series data\n",
    "- ReLU activation function is applied on CNN outputs\n",
    "- Results are pooled in max pooling layer \n",
    "- Finally, pooled outputs are concatenated to form fully connected layer \n",
    "\n",
    "- Note: Dropout layer is skipped because optimal TreNet hyperparameters found for NYSE data had dropout of 0.0"
   ]
  },
  {
   "cell_type": "markdown",
   "id": "fa3c60e8-16e4-42be-a57b-d85146e2e63e",
   "metadata": {},
   "source": [
    "## Setup"
   ]
  },
  {
   "cell_type": "code",
   "execution_count": 1,
   "id": "a2fc4304-b3f7-42d2-b298-79064b17410a",
   "metadata": {},
   "outputs": [],
   "source": [
    "import pandas as pd\n",
    "import numpy as np\n",
    "import matplotlib.pyplot as plt\n",
    "import seaborn as sns\n",
    "\n",
    "import torch\n",
    "import torch.nn as nn\n",
    "import torch.optim as optim"
   ]
  },
  {
   "cell_type": "code",
   "execution_count": 2,
   "id": "bd81bac9-f4f5-4b97-93c9-0494e9dc6708",
   "metadata": {},
   "outputs": [],
   "source": [
    "# Use GPU if available for PyTorch\n",
    "if torch.cuda.is_available():\n",
    "    dev = \"cuda:0\"\n",
    "else:\n",
    "    dev = \"cpu\"\n",
    "\n",
    "device = torch.device(dev)"
   ]
  },
  {
   "cell_type": "markdown",
   "id": "2f379c53-a6e5-48e3-9ad3-e3dde7826f2a",
   "metadata": {},
   "source": [
    "## Data Pre-Processing"
   ]
  },
  {
   "cell_type": "code",
   "execution_count": 3,
   "id": "e125c24e-4923-4eaa-9f8f-dc32690dbb3b",
   "metadata": {},
   "outputs": [],
   "source": [
    "\"\"\"\n",
    "Extracts m sequential data to use to predict n next data \n",
    "\"\"\"\n",
    "def extract_data(data, num_input, num_output):\n",
    "    num_rows = data.shape[0] - num_input - num_output\n",
    "    input_data = torch.zeros(num_rows, num_input)\n",
    "    output_data = torch.zeros(num_rows, num_output)\n",
    "    \n",
    "    for i in range(num_rows):\n",
    "        input_data[i] = (data[i:i+num_input])\n",
    "        output_data[i] = (data[i+num_input:i+num_input+num_output])\n",
    "    return input_data, output_data"
   ]
  },
  {
   "cell_type": "code",
   "execution_count": 4,
   "id": "4b5e4c62-0532-4ad6-a8ec-954598b982d4",
   "metadata": {},
   "outputs": [],
   "source": [
    "\"\"\"\n",
    "Separates data into train, validation, and test sets\n",
    "props: (train, valid)\n",
    "\"\"\"\n",
    "def train_valid_test_split(X, y, props=None):\n",
    "    if not props: \n",
    "        props = (0.5, 0.25)\n",
    "    elif len(props) != 3: \n",
    "        print(\"Wrong number of parameters\")\n",
    "        return None\n",
    "    \n",
    "    train_size = int(X.shape[0] * props[0])\n",
    "    valid_size = int(X.shape[0] * props[1])\n",
    "    \n",
    "    X_train = X[:train_size].to(device)\n",
    "    y_train = y[:train_size].to(device)\n",
    "    \n",
    "    X_valid = X[train_size: (train_size + valid_size)].to(device)\n",
    "    y_valid = y[train_size: (train_size + valid_size)].to(device)\n",
    "    \n",
    "    X_test = X[(train_size + valid_size):].to(device)\n",
    "    y_test = y[(train_size + valid_size):].to(device)\n",
    "    \n",
    "    return X_train, y_train, X_valid, y_valid, X_test, y_test"
   ]
  },
  {
   "cell_type": "markdown",
   "id": "45946ecf-ecd0-42da-8839-1a2526b6d35d",
   "metadata": {},
   "source": [
    "## TreNet CNN Model"
   ]
  },
  {
   "cell_type": "code",
   "execution_count": 5,
   "id": "21827809-c77f-49bf-9bb1-b0acf2acd435",
   "metadata": {},
   "outputs": [],
   "source": [
    "class TreNetCNN(nn.Module):\n",
    "    def __init__(self, num_data, layers=None, num_filters=None, dropout=None, conv_size=3, pooling_size=3, output_size=2):\n",
    "        \"\"\"\n",
    "        layers (int): Number of cnn stacks to create \n",
    "        num_filters (list(int)): Number of CNN filters corresponding to same index stacks\n",
    "        dropout (list(float)): Probability of dropout corresponing to same index stack\n",
    "        convsize (int, list(int)): Size of filter sizes \n",
    "        \"\"\"\n",
    "        super(TreNetCNN, self).__init__()\n",
    "        self.num_data = num_data\n",
    "        self.layers = layers\n",
    "        self.num_filters = num_filters\n",
    "        self.dropout = dropout\n",
    "        self.conv_size = conv_size\n",
    "        self.pooling_size = pooling_size\n",
    "        self.output_size = output_size\n",
    "        self.cnn_stack = self.create_cnn_stack()\n",
    "    \n",
    "    def create_cnn_stack(self):\n",
    "        # Initialize default stack settings\n",
    "        if not self.layers:\n",
    "            self.layers = 2\n",
    "        if not self.num_filters:\n",
    "            self.num_filters = [128] * self.layers\n",
    "        if not self.dropout:\n",
    "            self.dropout = [0.0] * self.layers\n",
    "        if type(self.conv_size) == int:\n",
    "            self.conv_size = [self.conv_size] * self.layers\n",
    "        \n",
    "        # Create cnn stacks \n",
    "        cnn_stacks = []\n",
    "        num_channels = 1\n",
    "        updated_data = self.num_data\n",
    "        for i in range(self.layers):\n",
    "            cnn_stack = nn.Sequential(\n",
    "                nn.Conv1d(in_channels=num_channels, out_channels=self.num_filters[i], kernel_size=self.conv_size[i]),\n",
    "                nn.ReLU(),\n",
    "                nn.MaxPool1d(kernel_size=self.pooling_size, stride=1),\n",
    "                nn.Dropout(p=self.dropout[i])\n",
    "            )\n",
    "            num_channels = self.num_filters[i]\n",
    "            cnn_stacks.append(cnn_stack)\n",
    "            \n",
    "            # Keep track of current size of data \n",
    "            updated_data = updated_data - self.conv_size[i] + 1 - self.pooling_size + 1\n",
    "            new_data_size = self.num_filters[i] * updated_data\n",
    "            \n",
    "        # Add fully connected layer at end to output trend duration and slope\n",
    "        output_layer = nn.Sequential(\n",
    "            nn.Flatten(), \n",
    "            nn.Linear(new_data_size, self.output_size)\n",
    "        )\n",
    "        cnn_stacks.append(output_layer)\n",
    "            \n",
    "        # Combine cnn stacks \n",
    "        return nn.Sequential(*cnn_stacks)\n",
    "    \n",
    "    def forward(self, x):\n",
    "        x = torch.reshape(x, (1, 1, -1))\n",
    "        output = self.cnn_stack(x)\n",
    "        return output"
   ]
  },
  {
   "cell_type": "markdown",
   "id": "ba218bc7-b591-4eeb-ab15-8583afe70892",
   "metadata": {},
   "source": [
    "## TreNet CNN Training and Loss Function"
   ]
  },
  {
   "cell_type": "code",
   "execution_count": 6,
   "id": "48641870-02c5-4fb5-b7cf-6d0726ce15d6",
   "metadata": {},
   "outputs": [],
   "source": [
    "\"\"\"\n",
    "Create training loop\n",
    "\"\"\"\n",
    "def train_loop(X, y, model, loss_fn, optimizer):\n",
    "    for i in range(X.shape[0]):\n",
    "        # Compute prediction and loss \n",
    "        pred = model(X[i])\n",
    "        loss = loss_fn(pred, y[i])\n",
    "        \n",
    "        # Perform backpropagation\n",
    "        optimizer.zero_grad()\n",
    "        loss.backward()\n",
    "        optimizer.step()"
   ]
  },
  {
   "cell_type": "code",
   "execution_count": 7,
   "id": "dbea557f-93b6-47f8-a822-27000ea5fe14",
   "metadata": {},
   "outputs": [],
   "source": [
    "\"\"\"\n",
    "Create test loop\n",
    "\"\"\"\n",
    "def test_loop(X, y, model, loss_fn):\n",
    "    test_loss = 0\n",
    "    \n",
    "    with torch.no_grad():\n",
    "        for i in range(X.shape[0]):\n",
    "            pred = model(X[i])\n",
    "            test_loss += loss_fn(pred, y[i]).item()\n",
    "            \n",
    "    test_loss /= X.shape[0]\n",
    "\n",
    "    return test_loss"
   ]
  },
  {
   "cell_type": "code",
   "execution_count": 8,
   "id": "ed14de6c-5bf6-46f1-8b9e-fc82d10f0f8d",
   "metadata": {},
   "outputs": [],
   "source": [
    "\"\"\"\n",
    "RMSE Loss Function\n",
    "\"\"\"\n",
    "def rmse(output, target):\n",
    "    loss = torch.mean((output - target)**2)\n",
    "    return torch.sqrt(loss)"
   ]
  },
  {
   "cell_type": "markdown",
   "id": "32fe47df-1c6a-4cc4-9a8a-b9138aa9ce15",
   "metadata": {},
   "source": [
    "## Test CNN Stack Model on Raw Stock Prices"
   ]
  },
  {
   "cell_type": "code",
   "execution_count": 9,
   "id": "425a62e6",
   "metadata": {},
   "outputs": [],
   "source": [
    "# Load in NYSE data\n",
    "df = pd.read_csv(\"../data/raw/indexProcessed.csv\")\n",
    "NYSE_df = df[df[\"Index\"] == \"NYA\"].loc[:, \"Open\"].reset_index(drop=True)\n",
    "\n",
    "# Create subset of data \n",
    "NYSE_sub = NYSE_df[:1000]\n",
    "sub = torch.tensor(NYSE_sub).to(device)"
   ]
  },
  {
   "cell_type": "code",
   "execution_count": 10,
   "id": "514be90d-1cbe-4347-a519-a074f46b9f4b",
   "metadata": {},
   "outputs": [],
   "source": [
    "# Separate train, validation, and test sets\n",
    "num_outputs = 1\n",
    "X, y = extract_data(sub, 100, num_outputs)\n",
    "train_X, train_y, valid_X, valid_y, test_X, test_y = train_valid_test_split(X, y)"
   ]
  },
  {
   "cell_type": "code",
   "execution_count": 11,
   "id": "c55c25d5-2586-41dc-8ced-a410516f6595",
   "metadata": {},
   "outputs": [],
   "source": [
    "# Set hyperparameters for training \n",
    "learning_rate = 0.000001\n",
    "batch_size = 64\n",
    "epochs = 35\n",
    "\n",
    "# Create model\n",
    "model = TreNetCNN(100, layers = 2, num_filters = [32, 32], dropout=[0.1, 0.1], conv_size=[2, 4], output_size=num_outputs).to(device)\n",
    "\n",
    "# Initialize loss function \n",
    "loss_fn = rmse\n",
    "\n",
    "# Initialize optimizer \n",
    "optimizer = torch.optim.Adam(model.parameters(), lr=learning_rate)"
   ]
  },
  {
   "cell_type": "code",
   "execution_count": 12,
   "id": "88c71b49-f23f-4e9e-aeb1-eed2104d4ed3",
   "metadata": {},
   "outputs": [
    {
     "name": "stderr",
     "output_type": "stream",
     "text": [
      "/opt/conda/lib/python3.9/site-packages/torch/nn/functional.py:652: UserWarning: Named tensors and all their associated APIs are an experimental feature and subject to change. Please do not use them for anything important until they are released as stable. (Triggered internally at  /pytorch/c10/core/TensorImpl.h:1156.)\n",
      "  return torch.max_pool1d(input, kernel_size, stride, padding, dilation, ceil_mode)\n"
     ]
    },
    {
     "name": "stdout",
     "output_type": "stream",
     "text": [
      "Epoch 0:\n",
      "------------------\n",
      "Train Loss: 383.7760111037766\n",
      "Validation Loss: 450.33145345960344\n",
      "\n",
      "Epoch 5:\n",
      "------------------\n",
      "Train Loss: 33.17122379974161\n",
      "Validation Loss: 37.70672471182687\n",
      "\n",
      "Epoch 10:\n",
      "------------------\n",
      "Train Loss: 33.53104059096169\n",
      "Validation Loss: 39.09117957523891\n",
      "\n",
      "Epoch 15:\n",
      "------------------\n",
      "Train Loss: 32.23318223167369\n",
      "Validation Loss: 37.02065413338797\n",
      "\n",
      "Epoch 20:\n",
      "------------------\n",
      "Train Loss: 32.072252099391875\n",
      "Validation Loss: 35.54894038609096\n",
      "\n",
      "Epoch 25:\n",
      "------------------\n",
      "Train Loss: 31.61235770244641\n",
      "Validation Loss: 34.038603918892996\n",
      "\n",
      "Epoch 30:\n",
      "------------------\n",
      "Train Loss: 33.4190853943007\n",
      "Validation Loss: 32.31206784929548\n",
      "\n",
      "Epoch 34:\n",
      "------------------\n",
      "Train Loss: 32.466567483404965\n",
      "Validation Loss: 35.42890957423619\n",
      "\n",
      "Done!\n"
     ]
    }
   ],
   "source": [
    "train_score = []\n",
    "valid_score = []\n",
    "for i in range(epochs):\n",
    "    train_loop(train_X, train_y, model, loss_fn, optimizer)\n",
    "    train_score.append(test_loop(train_X, train_y, model, loss_fn))\n",
    "    valid_score.append(test_loop(valid_X, valid_y, model, loss_fn))\n",
    "    \n",
    "    if i % 5 == 0 or i == epochs-1: \n",
    "        print(f\"Epoch {i}:\\n------------------\")\n",
    "        print(f\"Train Loss: {train_score[-1]}\")\n",
    "        print(f\"Validation Loss: {valid_score[-1]}\")\n",
    "        print()\n",
    "    \n",
    "print(\"Done!\")"
   ]
  }
 ],
 "metadata": {
  "kernelspec": {
   "display_name": "Python 3 (ipykernel)",
   "language": "python",
   "name": "python3"
  },
  "language_info": {
   "codemirror_mode": {
    "name": "ipython",
    "version": 3
   },
   "file_extension": ".py",
   "mimetype": "text/x-python",
   "name": "python",
   "nbconvert_exporter": "python",
   "pygments_lexer": "ipython3",
   "version": "3.9.5"
  }
 },
 "nbformat": 4,
 "nbformat_minor": 5
}
