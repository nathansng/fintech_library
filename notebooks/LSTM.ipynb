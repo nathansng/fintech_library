{
 "cells": [
  {
   "cell_type": "code",
   "execution_count": 1,
   "metadata": {},
   "outputs": [],
   "source": [
    "import numpy as np\n",
    "import torch\n",
    "import torch.nn as nn\n",
    "import torch.optim as optim\n",
    "import matplotlib.pyplot as plt"
   ]
  },
  {
   "cell_type": "code",
   "execution_count": 10,
   "metadata": {},
   "outputs": [],
   "source": [
    "#dummy_input = [[l1,s1],[l2,s2],[l3,s3],[l4,s4],[l5,s5]]\n",
    "#dummy_output = [l6,s2]"
   ]
  },
  {
   "cell_type": "code",
   "execution_count": 2,
   "metadata": {},
   "outputs": [],
   "source": [
    "class LSTM(nn.Module):\n",
    "    \n",
    "    def __init__(self, input_size, hidden_size, output_size, dropout, num_layers):\n",
    "        super(LSTM, self).__init__()\n",
    "        self.input_size = input_size\n",
    "        self.hidden_size = hidden_size\n",
    "        self.output_size = output_size\n",
    "        self.num_layers = num_layers\n",
    "        self.lstm = nn.LSTM(input_size = input_size, hidden_size = hidden_size, \\\n",
    "                            dropout = dropout, num_layers = num_layers, \\\n",
    "                            batch_first=True, bidirectional=False)\n",
    "        self.fc = nn.Linear(hidden_size, output_size)\n",
    "        \n",
    "        h = Variable(torch.zeros(self.layers, self.batch_size, self.hidden_size)) # \n",
    "        c = Variable(torch.zeros(self.layers, self.batch_size, self.hidden_size)) #\n",
    "        \n",
    "    def forward(self, x):\n",
    "        \n",
    "        output_lstm, (h_n,c_n) = self.lstm(x, (h,c))\n",
    "        output = self.fc(output_lstm, output_size)\n",
    "        \n",
    "        \n",
    "        return output, h"
   ]
  },
  {
   "cell_type": "code",
   "execution_count": 32,
   "metadata": {},
   "outputs": [],
   "source": [
    "device = 'cpu'\n",
    "#LSTM\n",
    "input_size = 2\n",
    "hidden_size = 600\n",
    "output_size = 2\n",
    "dropout = 0.5\n",
    "n_layer = 1\n",
    "#optim\n",
    "lr = 0.0005\n",
    "l2_reg = 5e-4\n",
    "\n",
    "# batch_size = 5000\n",
    "\n",
    "trenet_lstm = LSTM(input_size, hidden_size, output_size, dropout, n_layer).to(device)\n",
    "optimizer = optim.Adam(trenet_lstm.parameters(), lr=lr, weight_decay=l2_reg)"
   ]
  },
  {
   "cell_type": "code",
   "execution_count": null,
   "metadata": {},
   "outputs": [],
   "source": []
  },
  {
   "cell_type": "code",
   "execution_count": null,
   "metadata": {},
   "outputs": [],
   "source": []
  },
  {
   "cell_type": "code",
   "execution_count": null,
   "metadata": {},
   "outputs": [],
   "source": []
  },
  {
   "cell_type": "code",
   "execution_count": null,
   "metadata": {},
   "outputs": [],
   "source": []
  },
  {
   "cell_type": "code",
   "execution_count": null,
   "metadata": {},
   "outputs": [],
   "source": []
  }
 ],
 "metadata": {
  "kernelspec": {
   "display_name": "Python 3",
   "language": "python",
   "name": "python3"
  },
  "language_info": {
   "codemirror_mode": {
    "name": "ipython",
    "version": 3
   },
   "file_extension": ".py",
   "mimetype": "text/x-python",
   "name": "python",
   "nbconvert_exporter": "python",
   "pygments_lexer": "ipython3",
   "version": "3.7.6"
  }
 },
 "nbformat": 4,
 "nbformat_minor": 4
}
